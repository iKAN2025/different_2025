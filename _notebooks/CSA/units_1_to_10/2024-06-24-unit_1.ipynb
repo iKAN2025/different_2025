{
 "cells": [
  {
   "cell_type": "raw",
   "metadata": {},
   "source": [
    "---\n",
    "layout: post\n",
    "toc: true\n",
    "title: Unit 1 - Primitive Types\n",
    "description: Primitive Types\n",
    "authors: Aniket Chakradeo, Soham Kamat\n",
    "categories: [AP_Prep]\n",
    "courses: { csa: {week: 1} }\n",
    "type: ccc\n",
    "permalink: /unit1lesson\n",
    "---"
   ]
  },
  {
   "cell_type": "markdown",
   "metadata": {},
   "source": [
    "## Data Types\n",
    "\n",
    "A **type** is a set of values (e.g. integers, floats, etc..) and a set of operations (e.g. +, -, *, /, etc..) on them. <br>\n",
    "Data types can be categorized as either **primitive** or **reference**."
   ]
  },
  {
   "cell_type": "markdown",
   "metadata": {},
   "source": [
    "## Primitive Data Types\n",
    "A primitive data type specifies the size and type of variable values, and it has no additional methods.\n",
    "\n",
    "There are eight primitive data types in Java but only these 3 are used in AP CSA:\n",
    "\n",
    "| Data Type | Description |\n",
    "|-|-|\n",
    "| int | Stores whole numbers from -2,147,483,648 to 2,147,483,647 |\n",
    "| double | Stores decimal numbers. Sufficient for storing 15 decimal digits |\n",
    "| boolean | Stores true or false values |\n",
    "\n",
    "To declare a variable, you write:\n",
    "`\"Type\" \"Variable Name\" = \"Value\"`\n",
    "\n",
    "If I wanted to declare a variable called `Age` and I wanted to assign it to 16, I would write `int Age = 16`\n",
    "\n",
    "The Variable Name is refered to as the **identifier** in java\n",
    "\n",
    "### Popcorn Hack"
   ]
  },
  {
   "cell_type": "code",
   "execution_count": null,
   "metadata": {},
   "outputs": [],
   "source": [
    "__ myDouble = 8.99;\n",
    "__ myBool = false;\n",
    "__ myInt = 9 + 10;"
   ]
  },
  {
   "cell_type": "markdown",
   "metadata": {},
   "source": [
    "## Memory Allocation: Stack and Heap\n",
    "In Java, memory allocation for variables occurs in two main areas: the stack and the heap.\n",
    "\n",
    "### Stack Memory\n",
    "- Used for storing primitive data types and references to objects.\n",
    "- Memory is allocated in a last-in-first-out (LIFO) manner.\n",
    "- Each thread has its own stack, ensuring thread safety.\n",
    "\n",
    "Example:\n",
    "\n",
    "```java\n",
    "int number = 100; // Stored in the stack\n",
    "```\n",
    "\n",
    "### Heap Memory\n",
    "\n",
    "- Used for storing objects and arrays.\n",
    "- Shared among all threads, requiring synchronization for thread safety.\n",
    "- Managed by the garbage collector, which reclaims memory when objects are no longer in use.\n",
    "\n",
    "Example:\n",
    "```java\n",
    "String message = new String(\"Hello\"); // `message` reference in stack, actual object in heap\n",
    "```\n",
    "\n",
    "## Refrence Types\n",
    "\n",
    "Reference types in Java include classes, arrays, and interfaces. Unlike primitive types, reference types store addresses (references) to objects rather than the objects themselves.\n",
    "\n",
    "### Classes\n",
    "- Create complex data structures by grouping variables and methods.\n",
    "\n",
    "Example:\n",
    "```java\n",
    "class Person {\n",
    "    String name;\n",
    "    int age;\n",
    "}\n",
    "Person person = new Person(); // `person` reference in stack, `Person` object in heap\n",
    "```\n",
    "### Arrays\n",
    "- Collections of variables of the same type.\n",
    "\n",
    "Example:\n",
    "```java\n",
    "int[] numbers = new int[5]; // `numbers` reference in stack, array in heap\n",
    "```\n",
    "\n",
    "Additional Resources:\n",
    "\n",
    "[Quizlet](https://quizlet.com/421606237/ap-computer-science-unit-1-primitive-types-flash-cards/)<br>\n",
    "[W3 Schools](https://www.w3schools.com/java/java_data_types.asp)"
   ]
  },
  {
   "cell_type": "markdown",
   "metadata": {},
   "source": [
    "## Hacks\n",
    "### Part 1"
   ]
  },
  {
   "cell_type": "code",
   "execution_count": null,
   "metadata": {},
   "outputs": [],
   "source": [
    "public class Person {\n",
    "    String name;\n",
    "    int age;\n",
    "    int height;\n",
    "    String job;\n",
    "\n",
    "    public Person(String name, int age, int height, String job) {\n",
    "        this.name = name;\n",
    "        this.age = age;\n",
    "        this.height = height;\n",
    "        this.job = job;\n",
    "    }\n",
    "}\n",
    "\n",
    "public static void main(String[] args) {\n",
    "    Person person1 = new Person(\"Carl\", 25, 165, \"Construction Worker\");\n",
    "    Person person2 = new Person(\"Adam\", 29, 160, \"Truck Driver\");\n",
    "    Person person3 = person1;\n",
    "    int number = 16;\n",
    "    System.out.println(number);\n",
    "}\n",
    "main(null);"
   ]
  },
  {
   "cell_type": "markdown",
   "metadata": {},
   "source": [
    "Answer the following questions based on the code above:\n",
    "* a) What kind of types are person1 and person2? \n",
    "* Answer: \n",
    "* b) Do person1 and person3 point to the same value in memory?\n",
    "* Answer:\n",
    "* c) Is the integer \"number\" stored in the heap or in the stack?\n",
    "* Answer:\n",
    "* d) Is the value that \"person1\" points to stored in the heap or in the stack?\n",
    "* Answer: "
   ]
  },
  {
   "cell_type": "markdown",
   "metadata": {},
   "source": [
    "### Part 2\n",
    "Question 1: Primitive Types vs Reference Types (Unit 1)\n",
    "\n",
    "Situation: You are developing a banking application where you need to represent customer information. You have decided to use both primitive types and reference types for this purpose.\n",
    "\n",
    "(a) Define primitive types and reference types in Java. Provide examples of each.\n",
    "\n",
    "(b) Explain the differences between primitive types and reference types in terms of memory allocation and usage in Java programs.\n",
    "\n",
    "(c) Code:\n",
    "\n",
    "You have a method `calculateInterest` that takes a primitive `double` type representing the principal amount and a reference type `Customer` representing the customer information. Write the method signature and the method implementation. Include comments to explain your code.\n"
   ]
  }
 ],
 "metadata": {
  "kernelspec": {
   "display_name": "Java",
   "language": "java",
   "name": "java"
  },
  "language_info": {
   "codemirror_mode": "java",
   "file_extension": ".jshell",
   "mimetype": "text/x-java-source",
   "name": "java",
   "pygments_lexer": "java",
   "version": "19.0.2+7-44"
  }
 },
 "nbformat": 4,
 "nbformat_minor": 2
}
