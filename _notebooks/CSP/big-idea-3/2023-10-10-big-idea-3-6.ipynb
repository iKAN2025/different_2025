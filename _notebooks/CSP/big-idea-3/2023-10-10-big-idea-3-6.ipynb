{
 "cells": [
  {
   "cell_type": "raw",
   "metadata": {
    "vscode": {
     "languageId": "raw"
    }
   },
   "source": [
    "---\n",
    "toc: false\n",
    "comments: true\n",
    "layout: post\n",
    "title: 3.6 Conditionals \n",
    "description: Student led teaching on Conditionals. Learn how conditionals control the flow of a program by executing specific blocks of code under certain conditions.\n",
    "permalink: /csp/big-idea/3-6\n",
    "categories: [CSP Big Ideas]\n",
    "author: LEIA\n",
    "---\n"
   ]
  },
  {
   "cell_type": "raw",
   "metadata": {},
   "source": [
    "{% include nav/csp_unit3.html %}"
   ]
  },
  {
   "cell_type": "markdown",
   "metadata": {},
   "source": [
    "## <mark>Conditionals</mark>\n",
    "\n",
    "- Affect the sequential flow of control by executing different statements based on the value of a Boolean expression."
   ]
  },
  {
   "cell_type": "code",
   "execution_count": 1,
   "metadata": {
    "vscode": {
     "languageId": "html"
    }
   },
   "outputs": [
    {
     "ename": "SyntaxError",
     "evalue": "invalid syntax (3388684654.py, line 3)",
     "output_type": "error",
     "traceback": [
      "\u001b[0;36m  Cell \u001b[0;32mIn[1], line 3\u001b[0;36m\u001b[0m\n\u001b[0;31m    <block of statements>\u001b[0m\n\u001b[0m    ^\u001b[0m\n\u001b[0;31mSyntaxError\u001b[0m\u001b[0;31m:\u001b[0m invalid syntax\n"
     ]
    }
   ],
   "source": [
    "IF (condition)\n",
    "{\n",
    "\t<block of statements>\n",
    "}\n",
    "\n",
    "The code in <block of statements> is executed if the Boolean expression condition evaluates to true; no action is taken if condition evaluates to false.\n",
    "\n",
    "IF (condition)\n",
    "{\n",
    "\t<block of statements>\n",
    "}\n",
    "ELSE\n",
    "{\n",
    "\t<second block of statements>\n",
    "}\n",
    "\n",
    "The code in the first <block of statements> is executed if the Boolean expression condition evaluates to true; otherwise, the code in <second block of statements> is executed."
   ]
  },
  {
   "cell_type": "markdown",
   "metadata": {},
   "source": [
    "<b>Example:</b> Calculate the sum of 2 numbers. If the sum is greater than 10, display 10; otherwise, display the sum."
   ]
  },
  {
   "cell_type": "code",
   "execution_count": null,
   "metadata": {
    "vscode": {
     "languageId": "html"
    }
   },
   "outputs": [],
   "source": [
    "num1 = INPUT\n",
    "num2 = INPUT\n",
    "sum = num1 + num2\n",
    "IF (sum > 10)\n",
    "{\n",
    "\tDISPLAY (10)\n",
    "}\n",
    "ELSE\n",
    "{\n",
    "\tDISPLAY (sum)\n",
    "}"
   ]
  },
  {
   "cell_type": "markdown",
   "metadata": {},
   "source": [
    "# Example\n",
    "\n",
    "- Add a variable that represents an age.\n",
    "\n",
    "- Add an 'if' and 'print' function that says \"You are an adult\" if your age is greater than or equal to 18.\n",
    "\n",
    "- Make a function that prints \"You are a minor\" with the else function."
   ]
  },
  {
   "cell_type": "code",
   "execution_count": 2,
   "metadata": {},
   "outputs": [
    {
     "name": "stdout",
     "output_type": "stream",
     "text": [
      "Minor\n"
     ]
    }
   ],
   "source": [
    "\n",
    "age = input(\"age: \")\n",
    "if int(age) >= 18:\n",
    "    print(\"Adult\")\n",
    "else:\n",
    "    print(\"Minor\")\n"
   ]
  },
  {
   "cell_type": "markdown",
   "metadata": {},
   "source": [
    "# Example\n",
    "\n",
    "- Make a variable called 'is_raining' and set it to 'True\".\n",
    "\n",
    "- Make an if statement that prints \"Bring an umbrella!\" if it is true\n",
    "\n",
    "- Make an else statement that says \"The weather is clear\"."
   ]
  },
  {
   "cell_type": "code",
   "execution_count": 4,
   "metadata": {},
   "outputs": [
    {
     "name": "stdout",
     "output_type": "stream",
     "text": [
      "The weather is clear\n"
     ]
    }
   ],
   "source": [
    "\n",
    "is_raining = False\n",
    "if is_raining:\n",
    "    print(\"Bring a umbrella\")\n",
    "else:\n",
    "    print(\"The weather is clear\")"
   ]
  },
  {
   "cell_type": "markdown",
   "metadata": {},
   "source": [
    "# Example\n",
    "\n",
    "- Make a function to randomize numbers between 0 and 100 to be assigned to variables a and b using random.randint\n",
    "\n",
    "- Print the values of the variables\n",
    "\n",
    "- Print the relationship of the variables; a is more than, same as, or less than b"
   ]
  },
  {
   "cell_type": "code",
   "execution_count": 5,
   "metadata": {},
   "outputs": [
    {
     "name": "stdout",
     "output_type": "stream",
     "text": [
      "19 6\n",
      "19 > 6\n"
     ]
    }
   ],
   "source": [
    "\n",
    "import random\n",
    "\n",
    "\n",
    "a = random.randint(0,100)\n",
    "b = random.randint(0,100)\n",
    "print(a, b)\n",
    "\n",
    "if a > b:\n",
    "    print( str(a) + \" > \" + str(b) )\n",
    "elif a < b: \n",
    "    print( str(a) + \" < \" + str(b) )\n",
    "else:\n",
    "    print( str(a) + \" = \" + str(b) )\n",
    "\n",
    "\n",
    "\n"
   ]
  },
  {
   "cell_type": "markdown",
   "metadata": {},
   "source": [
    "## Hacks\n",
    "\n",
    "Review each of the sections above and add to the following code  ...\n",
    "\n",
    "- Add more questions relating to Boolean rather than only one per topic (ideas: expand on conditional statements, relational/logical operators)\n",
    "- Add a way to organize the user scores (possibly some kind of leaderboard, keep track of high score vs. current score, etc. Get creative!)\n",
    "- Remember to test your code to make sure it functions correctly."
   ]
  },
  {
   "cell_type": "code",
   "execution_count": 6,
   "metadata": {},
   "outputs": [
    {
     "name": "stdout",
     "output_type": "stream",
     "text": [
      "Hello, Hey! running /opt/homebrew/opt/python@3.11/bin/python3.11\n",
      "You will be asked 5 questions.\n",
      "Hey!, you scored 0/5\n"
     ]
    }
   ],
   "source": [
    "#HOMEWORK\n",
    "\n",
    "\n",
    "# The quiz contains questions related to Boolean values, Boolean expressions,\n",
    "# conditional statements, relational operators, and logical operators.\n",
    "\n",
    "# Import necessary modules\n",
    "import getpass  # Module to get the user's name\n",
    "import sys  # Module to access system-related information\n",
    "\n",
    "# Function to ask a question and get a response\n",
    "def question_with_response(prompt):\n",
    "    # Print the question\n",
    "    print(\"Question: \" + prompt)\n",
    "    # Get user input as the response\n",
    "    msg = input()\n",
    "    return msg\n",
    "\n",
    "# Define the number of questions and initialize the correct answers counter\n",
    "questions = 5\n",
    "correct = 0\n",
    "\n",
    "# Personalized greeting message\n",
    "# Collect the student's name\n",
    "user_name = input(\"Enter your name: \")\n",
    "print('Hello, ' + user_name + \" running \" + sys.executable)\n",
    "print(\"You will be asked \" + str(questions) + \" questions.\")\n",
    "answer = input(\"Are you ready to take a test?\")\n",
    "\n",
    "# Question 1: Boolean Basics \n",
    "# Ask a question about Boolean values and check the response\n",
    "# Provide feedback based on the correctness of the response\n",
    "\n",
    "# Question 2: Boolean Expressions\n",
    "# Ask a question about Boolean expressions and their importance in programming\n",
    "# Provide feedback based on the correctness of the response\n",
    "\n",
    "# Question 3: Conditional Statements\n",
    "# Ask a question about the purpose of conditional (if-else) statements in programming\n",
    "# Provide feedback based on the correctness of the response\n",
    "\n",
    "# Question 4: Relational Operators\n",
    "# Ask a question about common relational operators in programming and provide examples\n",
    "# Provide feedback based on the correctness of the response\n",
    "\n",
    "# Question 5: Logical Operators\n",
    "# Ask a question about the use of logical operators in programming and provide examples\n",
    "# Provide feedback based on the correctness of the response\n",
    "\n",
    "# Display the final score\n",
    "# Calculate the percentage of correct answers and provide feedback\n",
    "print(user_name + \", you scored \" + str(correct) + \"/\" + str(questions))"
   ]
  }
 ],
 "metadata": {
  "kernelspec": {
   "display_name": "Python 3",
   "language": "python",
   "name": "python3"
  },
  "language_info": {
   "codemirror_mode": {
    "name": "ipython",
    "version": 3
   },
   "file_extension": ".py",
   "mimetype": "text/x-python",
   "name": "python",
   "nbconvert_exporter": "python",
   "pygments_lexer": "ipython3",
   "version": "3.11.4"
  }
 },
 "nbformat": 4,
 "nbformat_minor": 2
}
