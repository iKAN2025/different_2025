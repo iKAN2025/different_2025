{
 "cells": [
  {
   "cell_type": "raw",
   "metadata": {
    "vscode": {
     "languageId": "raw"
    }
   },
   "source": [
    "---\n",
    "toc: false\n",
    "comments: true\n",
    "layout: post\n",
    "title: 3.1 Variables and Assignments\n",
    "description: Student led teaching on Variables and Assignments.  Learn how variables store information and are manipulated in a program.\n",
    "permalink: /csp/big-idea/3-1\n",
    "categories: [CSP Big Ideas]\n",
    "author: Christina, Shubhay, Arushi, Harkirat, Aashray\n",
    "---"
   ]
  },
  {
   "cell_type": "raw",
   "metadata": {},
   "source": [
    "{% include nav/csp_unit3.html %}"
   ]
  },
  {
   "cell_type": "markdown",
   "metadata": {},
   "source": [
    "## Variables \n",
    "\n",
    "A Variable is defined as an abstraction inside of a program that can hold a value.\n",
    "\n",
    "Variables can be named from letters like X, Y, Z to phrases like APIKEY.  The point of these names is to store some sort of Data to a resuable value.\n",
    "\n",
    "```python\n",
    "x = 10\n",
    "name = \"Gerald\"\n",
    "fav_food = \"Cookies\"\n",
    "```"
   ]
  },
  {
   "cell_type": "markdown",
   "metadata": {},
   "source": [
    "<hr style=\"solid\">\n",
    "\n",
    "## Variable Naming\n",
    "\n",
    "This brings us to the topic of naming Variables. The names of variables are really important when working in groups. For example when one of your teammates review your code they use the names of your variables to quickly understand your code. In the code above you can understand that the variable fav_food represents a favorite food\n",
    "\n",
    "There are 3 Important Coding Practices to follow when it comes to naming variables\n",
    "\n",
    "### SnakeCase\n",
    "\n",
    "SnakeCase is where you replace spaces in the words in a variable names to an underscore.  This is the standard naming convention for variables in Python.\n",
    "\n",
    "```python\n",
    "    variable_one = \"Aashray\"\n",
    "```\n",
    "Here's an example of a SnakeCase variable that uses a _ as a space. \n",
    "\n",
    "Now try making your own SnakeCase variable and set the variable equal to a integer. \n",
    "\n",
    "### PascalCase\n",
    "\n",
    "PascalCase is where you capitialize every word in your variable, but keep it all as one singluar phrase with no spaces.  Altough this is shown in example, it should not be used for varialbes in Python.  This is reserved for class names.\n",
    "\n",
    "```python\n",
    "    VariableOne = \"Chrissie\"\n",
    "```\n",
    "\n",
    "Here you can clearly see that the vairable has two diffrent words, and we didn't need to use a space to seperate it. \n",
    "\n",
    "Try making your own PascalCase variable\n",
    "\n",
    "### CamelCase\n",
    "\n",
    "CamelCase is where you captalize the second and subsequent words in the variable name.  This is not normally used in Python conventions.\n",
    "\n",
    "```python\n",
    "    variableOne = \"Arushi\"\n",
    "```\n",
    "\n",
    "Here the One is captalized to indicate a second word in the variable without using a space.\n",
    "\n",
    "Try making your own CamelCase\n",
    "\n"
   ]
  },
  {
   "cell_type": "code",
   "execution_count": 1,
   "metadata": {},
   "outputs": [
    {
     "ename": "TypeError",
     "evalue": "unsupported operand type(s) for +: 'int' and 'str'",
     "output_type": "error",
     "traceback": [
      "\u001b[0;31m---------------------------------------------------------------------------\u001b[0m",
      "\u001b[0;31mTypeError\u001b[0m                                 Traceback (most recent call last)",
      "\u001b[1;32m/Users/isabelmarilla/nighthawkcodingsocietyreal/portfolio_2025/_notebooks/2024-09-24-big-idea-3-1.ipynb Cell 4\u001b[0m line \u001b[0;36m6\n\u001b[1;32m      <a href='vscode-notebook-cell:/Users/isabelmarilla/nighthawkcodingsocietyreal/portfolio_2025/_notebooks/2024-09-24-big-idea-3-1.ipynb#W3sZmlsZQ%3D%3D?line=2'>3</a>\u001b[0m myString \u001b[39m=\u001b[39m \u001b[39m\"\u001b[39m\u001b[39mHello\u001b[39m\u001b[39m\"\u001b[39m\n\u001b[1;32m      <a href='vscode-notebook-cell:/Users/isabelmarilla/nighthawkcodingsocietyreal/portfolio_2025/_notebooks/2024-09-24-big-idea-3-1.ipynb#W3sZmlsZQ%3D%3D?line=4'>5</a>\u001b[0m \u001b[39m# Try to add them together\u001b[39;00m\n\u001b[0;32m----> <a href='vscode-notebook-cell:/Users/isabelmarilla/nighthawkcodingsocietyreal/portfolio_2025/_notebooks/2024-09-24-big-idea-3-1.ipynb#W3sZmlsZQ%3D%3D?line=5'>6</a>\u001b[0m result \u001b[39m=\u001b[39m myInteger \u001b[39m+\u001b[39;49m myString\n\u001b[1;32m      <a href='vscode-notebook-cell:/Users/isabelmarilla/nighthawkcodingsocietyreal/portfolio_2025/_notebooks/2024-09-24-big-idea-3-1.ipynb#W3sZmlsZQ%3D%3D?line=7'>8</a>\u001b[0m \u001b[39m#You can't!\u001b[39;00m\n",
      "\u001b[0;31mTypeError\u001b[0m: unsupported operand type(s) for +: 'int' and 'str'"
     ]
    }
   ],
   "source": [
    "## Attempt to add an integer and a string\n",
    "myInteger = 42\n",
    "myString = \"Hello\"\n",
    "\n",
    "# Try to add them together\n",
    "result = myInteger + myString\n",
    "\n",
    "#You can't!\n"
   ]
  },
  {
   "cell_type": "markdown",
   "metadata": {},
   "source": [
    "## Variable Types\n",
    "\n",
    "Earlier we explained how to assign variables and properly name them. However in the code above even though I followed all these steps and properly named them I ran into a error.\n",
    "\n",
    "This is because the types of data, string and int cannot be added. But what are integers and strings?\n",
    "\n",
    "In python there are multiple types of data that a variable can be, for now lets look at the most commonly use ones.\n",
    "\n",
    "### Integers\n",
    "\n",
    "Integers are a numerical value going from 1,2,3,4 or -1,2,-3 etc. These are numbers with no decimals and are ussualy called ints\n",
    "\n",
    "```python\n",
    "    int x = 3\n",
    "\n",
    "    print(x)\n",
    "```\n",
    "\n",
    "In this case we call int x to be 3. Normally you don't need to say the data type before the variable in python, however in other languages like JS or C++ you would need to. \n",
    "\n",
    "### Strings\n",
    "\n",
    "Strings are a chain of text, numbers or charcters that are all inside of \" \"\n",
    "\n",
    "```python\n",
    "    str Cookies = \" My Fav cookies are Choclate Chip \"\n",
    "```\n",
    "\n",
    "Here we set a string cookie to be representing the statement that \" My Fav Cookies are Choclate Chip\"  The \" \" marks are what determine it is a string in most coding languages.\n",
    "\n",
    "### Boolean\n",
    "\n",
    "Booleans are True or False, and they are used for condtional statements\n",
    " \n",
    "\n",
    "```python\n",
    "    ChrissieGetsSleep = False\n",
    "    \n",
    "    if ChrissieGetsSleep = True:\n",
    "        pass\n",
    "    else: \n",
    "        return 0\n",
    "```\n",
    "\n",
    "Here we have a if statement that checks if the boolean variable is currently true and if its true it won't do anything, but if its false it will return 0.\n",
    "\n",
    "### Float\n",
    "\n",
    "Floats are a integers that can have decimal values\n",
    "```python\n",
    "    x = 3.1415\n",
    "    print(x)\n",
    "```\n",
    "\n",
    "In this case we call int x to be 3.1415, and this is a float because of its decimal points.\n",
    "\n",
    "### Lists\n",
    "\n",
    "Lists are ordered collections of items in Python. They can contain a mix of different data types, including integers, floats, strings, and more. \n",
    "\n",
    "```python\n",
    "my_list = [1, 2, 3, 4, 5]\n",
    "print(my_list)\n",
    "```\n",
    "\n",
    "### Dictionaries in Python\n",
    "\n",
    "Dictionaries are versatile data structures in Python that store key-value pairs. Each value in a dictionary is associated with a unique key, which allows for efficient lookups and retrieval of values.\n",
    "\n",
    "```python\n",
    "my_dict = {\n",
    "    \"name\": \"Alice\",\n",
    "    \"age\": 30,\n",
    "    \"city\": \"Wonderland\"\n",
    "}\n",
    "print(my_dict)\n",
    "```"
   ]
  },
  {
   "cell_type": "markdown",
   "metadata": {},
   "source": [
    "## Addition versus Concatenation\n",
    "Operaterors such as + will produce different results on different data types.  Most are familiar with + on numbers, but on characters it connects the sequences of characters.  This connection is called concatenation."
   ]
  },
  {
   "cell_type": "code",
   "execution_count": null,
   "metadata": {},
   "outputs": [],
   "source": [
    "# Addition of two integer variables\n",
    "\n",
    "int1 = 1\n",
    "int2 = 2\n",
    "print(\"Concatation between two non strings in a print statement will EVALUATE them.\")\n",
    "print(\"Notice how they get ADDED together.\")\n",
    "print(int1 + int2)\n",
    "print()\n",
    "\n",
    "# Concatenation of two string variables\n",
    "\n",
    "print(\"Concatation between two  strings in a print statement will CONNECT them.\")\n",
    "print(\"Notice how they get CONNECTED together.\")\n",
    "string1 = \"1\"\n",
    "string2 = \"2\"\n",
    "print(string1 + string2) # notice how this CONNECTS the variables\n",
    "\n",
    "# Print statements like the above can be used to EVALUATE the result of + on two variables"
   ]
  },
  {
   "cell_type": "markdown",
   "metadata": {},
   "source": [
    "## Hacks\n",
    "Review each of the sections above and produce a python program which has a dictionary that stores:\n",
    "- Name as a string\n",
    "- Age as a integer\n",
    "- Favorite food as a string\n",
    "- Balance as a float\n",
    "- Hobbies as a list\n",
    "\n",
    "1. Be sure to follow Snake case convention for your variables\n",
    "2. Build your own code cells using each of the variable types\n",
    "3. Experiment with the + operator on each of the variable types and output the results. "
   ]
  }
 ],
 "metadata": {
  "kernelspec": {
   "display_name": "Python 3",
   "language": "python",
   "name": "python3"
  },
  "language_info": {
   "codemirror_mode": {
    "name": "ipython",
    "version": 3
   },
   "file_extension": ".py",
   "mimetype": "text/x-python",
   "name": "python",
   "nbconvert_exporter": "python",
   "pygments_lexer": "ipython3",
   "version": "3.11.4"
  },
  "orig_nbformat": 4
 },
 "nbformat": 4,
 "nbformat_minor": 2
}
