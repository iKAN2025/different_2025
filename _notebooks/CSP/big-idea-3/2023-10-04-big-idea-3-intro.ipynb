{
 "cells": [
  {
   "attachments": {},
   "cell_type": "raw",
   "metadata": {
    "vscode": {
     "languageId": "raw"
    }
   },
   "source": [
    "---\n",
    "layout: post\n",
    "title: Big Idea 3 - Programming \n",
    "description: An introduction to College Board's Big Idea 3.  This is a collection of Python lessons to help students understand the algorithm and programming concepts required  by College Board's AP Computer Science Principles curriculum.\n",
    "toc: false\n",
    "comments: false \n",
    "categories: [CSP Big Ideas]\n",
    "permalink: /csp/big-idea/intro\n",
    "courses: { csp: {week: 4} }\n",
    "type: ccc\n",
    "author: Isabel Marilla\n",
    "---"
   ]
  },
  {
   "cell_type": "raw",
   "metadata": {
    "vscode": {
     "languageId": "raw"
    }
   },
   "source": [
    "{% include nav/csp_unit3.html %}"
   ]
  },
  {
   "cell_type": "markdown",
   "metadata": {
    "vscode": {
     "languageId": "html"
    }
   },
   "source": [
    "\n",
    "<style>\n",
    "    .section {\n",
    "        margin-bottom: 20px;\n",
    "    }\n",
    "    .section h2 {\n",
    "        color: #4682b4;\n",
    "    }\n",
    "    .section ul {\n",
    "        list-style-type: none;\n",
    "        padding: 0;\n",
    "    }\n",
    "    .section ul li {\n",
    "        background-color: #e0ffff;\n",
    "        margin: 5px 0;\n",
    "        padding: 10px;\n",
    "        border-radius: 5px;\n",
    "    }\n",
    "    .section a {\n",
    "        color: #4682b4;\n",
    "        text-decoration: none;\n",
    "    }\n",
    "    .section a:hover {\n",
    "        text-decoration: underline;\n",
    "    }\n",
    "</style>\n",
    "\n",
    "<h1>Algorithms and Programming</h1>\n",
    "<h2>Welcome to the exciting world of computer science!</h2>\n",
    "<div class=\"section\">\n",
    "    <h2>What You'll Learn</h2>\n",
    "    <ul>\n",
    "        <li><strong>Algorithm Development:</strong> Learn what algorithms are, how to design and analyze them, and explore various types.</li>\n",
    "        <li><strong>Programming Concepts:</strong> Master variables, data types, control structures, functions, and data structures.</li>\n",
    "        <li><strong>Program Development:</strong> Plan, design, write, debug, test, and document software projects.</li>\n",
    "        <li><strong>Problem Solving:</strong> Develop problem-solving skills, explore strategies, and analyze real-world case studies.</li>\n",
    "    </ul>\n",
    "</div>\n",
    "<div class=\"section\">\n",
    "    <h2>Why It Matters</h2>\n",
    "    <p>Understanding algorithms and programming is fundamental to your AP CSP class and your Create Performance Task. Whether you aim to build a thorough full stack application, analyze vast datasets with machine learning, or simply improve your logical thinking skills, the concepts covered in this unit are indispensable for AP CSP and beyond! </p>\n",
    "</div>\n",
    "<div class=\"section\">\n",
    "    <h2>Key Terms to Know</h2>\n",
    "    <ul>\n",
    "        <li><strong>Algorithm:</strong> A step-by-step procedure for solving a problem or performing a task.</li>\n",
    "        <li><strong>Pseudocode:</strong> A way to describe algorithms using a mixture of natural language and programming language elements.</li>\n",
    "        <li><strong>Debugging:</strong> The process of finding and fixing errors in a program.</li>\n",
    "        <li><strong>Control Structures:</strong> Constructs that control the flow of execution in a program (e.g., loops, conditionals).</li>\n",
    "        <li><strong>Efficiency:</strong> A measure of how well an algorithm performs, particularly in terms of time and space resources.</li>\n",
    "    </ul>\n",
    "</div>\n",
    "<div class=\"section\">\n",
    "    <h2>Getting Started</h2>\n",
    "    <p>To start your journey into algorithms and programming, familiarize yourself with the basic concepts and terms outlined  in the navigatin bar above. Engage in hands-on practice through coding exercises provided in the hacks and don’t hesitate to experiment and explore beyond the curriculum. Remember, the key to mastering programming is consistent practice and problem-solving.</p>\n",
    "    <p>For more detailed information and resources, visit the official <a href=\"https://apstudents.collegeboard.org/courses/ap-computer-science-principles\" target=\"_blank\">College Board AP CSP page</a>.</p>\n",
    "</div>"
   ]
  }
 ],
 "metadata": {
  "kernelspec": {
   "display_name": "base",
   "language": "python",
   "name": "python3"
  },
  "language_info": {
   "codemirror_mode": {
    "name": "ipython",
    "version": 3
   },
   "file_extension": ".py",
   "mimetype": "text/x-python",
   "name": "python",
   "nbconvert_exporter": "python",
   "pygments_lexer": "ipython3",
   "version": "3.11.4"
  },
  "orig_nbformat": 4
 },
 "nbformat": 4,
 "nbformat_minor": 2
}
